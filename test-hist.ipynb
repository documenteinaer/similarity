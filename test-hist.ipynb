{
 "cells": [
  {
   "cell_type": "code",
   "execution_count": 146,
   "metadata": {},
   "outputs": [
    {
     "name": "stdout",
     "output_type": "stream",
     "text": [
      "1.0 46\n",
      "1.0 10\n",
      "diff= 0.40869565217391296 0.7956521739130435\n",
      "KS= KstestResult(statistic=0.1826086956521739, pvalue=0.8980479946215417)\n"
     ]
    },
    {
     "data": {
      "image/png": "[encoded data removed]",
      "text/plain": [
       "<Figure size 432x288 with 1 Axes>"
      ]
     },
     "metadata": {
      "needs_background": "light"
     },
     "output_type": "display_data"
    }
   ],
   "source": [
    "# testing hiostogram comparison \n",
    "\n",
    "import cv2, math\n",
    "import numpy as np\n",
    "import matplotlib.pyplot as plt\n",
    "from scipy.stats import ks_2samp, chisquare\n",
    "\n",
    "\n",
    "# Load the images\n",
    "img1 =  np.array([-88, -88, -87, -87, -87, -86, -86, -85, -85, -83, -82, -58, \n",
    "         -58, -57, -90, -90, -90, -89, -82, -81, -80, -63, -62, -61, \n",
    "         -90, -90, -90, -89, -82, -81, -80, -63, -62, -61, -86, -86, \n",
    "         -91, -89, -87, -82, -82, -82, -82, -62, -60, -59])\n",
    "#img1 = np.array([-80, -64])\n",
    "img2 = np.array([-90, -90, -90, -89, -82, -81, -80, -63, -62, -61])\n",
    "#img2 = np.array([-61])\n",
    "\n",
    "\n",
    "bins=np.arange(-100, -29, 5) \n",
    "bin_width = abs(bins[1]-bins[0])\n",
    "hist1,be1 = np.histogram(img1, bins=bins, density=False)\n",
    "hist2,be2 = np.histogram(img2, bins=bins, density=False)\n",
    "hist1 = hist1 / img1.size \n",
    "hist2 = hist2 / img2.size \n",
    "\n",
    "def hist_intersect(hist_1, hist_2):\n",
    "    minima = np.minimum(hist_1, hist_2)\n",
    "    intersection = np.true_divide(np.sum(minima), np.sum(hist_2))\n",
    "    return intersection\n",
    "\n",
    "print(sum(hist1), len(img1))\n",
    "print(sum(hist2), len(img2))\n",
    "\n",
    "# find the metric value\n",
    "print(\"diff=\", sum(abs(hist2-hist1)), hist_intersect(hist1, hist2))\n",
    "print(\"KS=\", ks_2samp(img1, img2)) # , \"CS=\", chisquare(img2, f_exp=img1))\n",
    "\n",
    "\n",
    "\n",
    "plt.bar(bins[:-1], hist1, width=bin_width, alpha=0.5, \n",
    "               linewidth=0.3)\n",
    "plt.bar(bins[:-1], hist2, width=bin_width, alpha=0.5, \n",
    "               linewidth=0.3)\n",
    "\n",
    "plt.legend([\"h1\", \"h2\"])\n",
    "plt.show()\n",
    "\n"
   ]
  }
 ],
 "metadata": {
  "kernelspec": {
   "display_name": "Python 3",
   "language": "python",
   "name": "python3"
  },
  "language_info": {
   "codemirror_mode": {
    "name": "ipython",
    "version": 3
   },
   "file_extension": ".py",
   "mimetype": "text/x-python",
   "name": "python",
   "nbconvert_exporter": "python",
   "pygments_lexer": "ipython3",
   "version": "3.9.5"
  }
 },
 "nbformat": 4,
 "nbformat_minor": 4
}
