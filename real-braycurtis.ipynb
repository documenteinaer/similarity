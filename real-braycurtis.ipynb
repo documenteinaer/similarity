{
 "cells": [
  {
   "cell_type": "code",
   "execution_count": null,
   "metadata": {},
   "outputs": [],
   "source": [
    "\"\"\"\n",
    " - no merging APs - separate APs work better \n",
    " - Average works best (99% 1 step + 2 steps, pixel) (98% 1 step + 2 steps, redmi)\n",
    " - weighting by power used / total power received doesn't work \n",
    " - KS doesnt work \n",
    " - Average > Median > Max \n",
    " - random direction = disaster \n",
    " - sometimes RSSI data from an AP is missing (not received) -> misclassification\n",
    "\"\"\""
   ]
  },
  {
   "cell_type": "code",
   "execution_count": 629,
   "metadata": {},
   "outputs": [],
   "source": [
    "from utils import *\n",
    "import sys, os, random\n",
    "# from compare_locations import compare_locations\n",
    "\n",
    "datadir = \"../data.upb/precis/02-precis-redmi-pixel4a/\"\n",
    "pix_etaje = [ \"0-pixel-04-06-2021_19-34-41.json\"]  \n",
    "red_etaje = [ \"0-redmi-04-06-2021_19-33-47.json\"]\n",
    "\n"
   ]
  },
  {
   "cell_type": "code",
   "execution_count": 297,
   "metadata": {},
   "outputs": [],
   "source": [
    "datadir = \"../data.upb/precis/01-precis-redmi-pixel4a/nowl/\"\n",
    "pix_etaje = [\n",
    "\"0-pixel-04-03-2021_15-32-38.json.gz\",\n",
    "\"1-pixel-25-02-2021_21-16-46.json.gz\",\n",
    "\"2-pixel-25-02-2021_16-27-45.json.gz\",\n",
    "\"3-pixel-04-03-2021_16-18-50.json.gz\",\n",
    "\"4-pixel-04-03-2021_16-43-50.json.gz\",\n",
    "\"5-pixel-04-03-2021_17-11-32.json.gz\",\n",
    "\"6-pixel-17-03-2021_12-52-29.json.gz\",\n",
    "\"7-pixel-17-03-2021_13-14-36.json.gz\"]\n",
    "\n",
    "red_etaje = [\n",
    "\"0-redmi-04-03-2021_15-31-12.json.gz\",\n",
    "\"1-redmi-25-02-2021_21-16-10.json.gz\",\n",
    "\"2-redmi-25-02-2021_16-27-08.json.gz\",\n",
    "\"3-redmi-04-03-2021_16-18-52.json.gz\",\n",
    "\"4-redmi-04-03-2021_16-43-45.json.gz\",\n",
    "\"5-redmi-04-03-2021_17-11-30.json.gz\",\n",
    "\"6-redmi-17-03-2021_12-52-29.json.gz\",\n",
    "\"7-redmi-17-03-2021_13-14-39.json.gz\"]\n",
    "\n"
   ]
  },
  {
   "cell_type": "code",
   "execution_count": 630,
   "metadata": {},
   "outputs": [],
   "source": [
    "retaje = []\n",
    "for e in red_etaje: \n",
    "    json_file = os.path.join(datadir, e)\n",
    "    etaj = load_dataset_json(json_file)\n",
    "    retaje.append(etaj)\n",
    "\n",
    "petaje = []\n",
    "for e in pix_etaje: \n",
    "    json_file = os.path.join(datadir, e)\n",
    "    etaj = load_dataset_json(json_file)\n",
    "    petaje.append(etaj)\n",
    "    "
   ]
  },
  {
   "cell_type": "code",
   "execution_count": 121,
   "metadata": {},
   "outputs": [
    {
     "name": "stdout",
     "output_type": "stream",
     "text": [
      "{'devId': '63f3a6c5-dddf-496b-9b2f-e33f30fa8988', 'devName': 'Redmi Note 8', 'AndroidVersion': '11', 'comment': 'Comment', 'map': 'arch_precis_parter.png', 'x_p': 963, 'y_p': 572, 'x': 54.319, 'y': 29.344, 'z': 86.5, 'fingerprints': [{'timestamp': '04-06-2021 19:14:42', 'wifi': {'84:b2:61:5e:62:bf': {'ssid': 'eduroam', 'frequency': '5500', 'rssi': [-79]}, '84:b2:61:5e:62:be': {'ssid': 'UPB-Guest', 'frequency': '5500', 'rssi': [-79]}, '84:b2:61:5e:62:bd': {'ssid': 'PRECIS', 'frequency': '5500', 'rssi': [-79]}, '84:b2:61:5e:62:b2': {'ssid': 'PRECIS', 'frequency': '2437', 'rssi': [-77]}, '84:b2:61:5e:62:b1': {'ssid': 'UPB-Guest', 'frequency': '2437', 'rssi': [-77]}, '84:b2:61:5e:62:b0': {'ssid': 'eduroam', 'frequency': '2437', 'rssi': [-76]}, '84:b2:61:65:c3:2f': {'ssid': 'eduroam', 'frequency': '5580', 'rssi': [-80]}, 'e4:aa:5d:84:a8:7f': {'ssid': 'eduroam', 'frequency': '5300', 'rssi': [-39]}, '84:b2:61:65:c3:2e': {'ssid': 'UPB-Guest', 'frequency': '5580', 'rssi': [-81]}, 'e4:aa:5d:84:a8:7e': {'ssid': 'UPB-Guest', 'frequency': '5300', 'rssi': [-39]}, '84:b2:61:65:c3:2d': {'ssid': 'PRECIS', 'frequency': '5580', 'rssi': [-80]}, 'e4:aa:5d:84:a8:7d': {'ssid': 'PRECIS', 'frequency': '5300', 'rssi': [-39]}, 'e4:aa:5d:84:a8:72': {'ssid': 'PRECIS', 'frequency': '2462', 'rssi': [-47]}, 'e4:aa:5d:8e:0c:6f': {'ssid': 'eduroam', 'frequency': '5280', 'rssi': [-84]}, 'e4:aa:5d:4e:1c:7f': {'ssid': 'eduroam', 'frequency': '5260', 'rssi': [-52]}, 'e4:aa:5d:8e:0c:6e': {'ssid': 'UPB-Guest', 'frequency': '5280', 'rssi': [-83]}, 'e4:aa:5d:84:a8:70': {'ssid': 'eduroam', 'frequency': '2462', 'rssi': [-48]}, 'e4:aa:5d:4e:1c:7e': {'ssid': 'UPB-Guest', 'frequency': '5260', 'rssi': [-52]}, 'e4:aa:5d:8e:0c:6d': {'ssid': 'PRECIS', 'frequency': '5280', 'rssi': [-82]}, 'e4:aa:5d:4e:1c:7d': {'ssid': 'PRECIS', 'frequency': '5260', 'rssi': [-52]}, 'e4:aa:5d:4e:1c:72': {'ssid': 'PRECIS', 'frequency': '2437', 'rssi': [-52]}, 'e4:aa:5d:4e:1c:71': {'ssid': 'UPB-Guest', 'frequency': '2437', 'rssi': [-52]}, 'e4:aa:5d:4e:1c:70': {'ssid': 'eduroam', 'frequency': '2437', 'rssi': [-51]}, '84:b2:61:65:c3:bf': {'ssid': 'eduroam', 'frequency': '5180', 'rssi': [-79]}, '84:b2:61:65:c3:be': {'ssid': 'UPB-Guest', 'frequency': '5180', 'rssi': [-78]}, '84:b2:61:65:c3:bd': {'ssid': 'PRECIS', 'frequency': '5180', 'rssi': [-78]}, '84:b2:61:65:c3:b2': {'ssid': 'PRECIS', 'frequency': '2412', 'rssi': [-82]}, '84:b2:61:65:c3:b1': {'ssid': 'UPB-Guest', 'frequency': '2412', 'rssi': [-84]}, '84:b2:61:65:c3:b0': {'ssid': 'eduroam', 'frequency': '2412', 'rssi': [-82]}, '84:b2:61:65:f2:2f': {'ssid': 'eduroam', 'frequency': '5220', 'rssi': [-81]}, '84:b2:61:65:f2:2e': {'ssid': 'UPB-Guest', 'frequency': '5220', 'rssi': [-80]}, '84:b2:61:65:f2:2d': {'ssid': 'PRECIS', 'frequency': '5220', 'rssi': [-80]}}, 'ble': {}, 'gps': [], 'telephony': [{'type': '5', 'cid': '25859892', 'rssi': '-79', 'mcc': '226', 'mnc': '5'}, {'type': '5', 'cid': '25859892', 'rssi': '-79', 'mcc': '226', 'mnc': '5'}, {'type': '5', 'cid': '25859892', 'rssi': '-79', 'mcc': '226', 'mnc': '5'}]}, {'timestamp': '04-06-2021 19:14:46', 'wifi': {'84:b2:61:5e:62:bf': {'ssid': 'eduroam', 'frequency': '5500', 'rssi': [-83]}, '84:b2:61:5e:62:be': {'ssid': 'UPB-Guest', 'frequency': '5500', 'rssi': [-82]}, '84:b2:61:5e:62:bd': {'ssid': 'PRECIS', 'frequency': '5500', 'rssi': [-82]}, '84:b2:61:65:c3:2f': {'ssid': 'eduroam', 'frequency': '5580', 'rssi': [-82]}, 'e4:aa:5d:84:a8:7f': {'ssid': 'eduroam', 'frequency': '5300', 'rssi': [-47]}, 'e4:aa:5d:84:a8:7e': {'ssid': 'UPB-Guest', 'frequency': '5300', 'rssi': [-47]}, 'e4:aa:5d:84:a8:7d': {'ssid': 'PRECIS', 'frequency': '5300', 'rssi': [-47]}, 'e4:aa:5d:4e:1c:7f': {'ssid': 'eduroam', 'frequency': '5260', 'rssi': [-53]}, 'e4:aa:5d:4e:1c:7e': {'ssid': 'UPB-Guest', 'frequency': '5260', 'rssi': [-53]}, 'e4:aa:5d:4e:1c:7d': {'ssid': 'PRECIS', 'frequency': '5260', 'rssi': [-53]}, 'e4:aa:5d:8e:0c:62': {'ssid': 'PRECIS', 'frequency': '2462', 'rssi': [-85]}, 'e4:aa:5d:4e:1c:72': {'ssid': 'PRECIS', 'frequency': '2437', 'rssi': [-58]}, 'e4:aa:5d:4e:1c:71': {'ssid': 'UPB-Guest', 'frequency': '2437', 'rssi': [-58]}, 'e4:aa:5d:8e:0c:60': {'ssid': 'eduroam', 'frequency': '2462', 'rssi': [-82]}, 'e4:aa:5d:4e:1c:70': {'ssid': 'eduroam', 'frequency': '2437', 'rssi': [-59]}, '84:b2:61:65:c3:bf': {'ssid': 'eduroam', 'frequency': '5180', 'rssi': [-79]}, '84:b2:61:65:c3:be': {'ssid': 'UPB-Guest', 'frequency': '5180', 'rssi': [-79]}, '84:b2:61:65:c3:bd': {'ssid': 'PRECIS', 'frequency': '5180', 'rssi': [-78]}, '84:b2:61:65:c3:b2': {'ssid': 'PRECIS', 'frequency': '2412', 'rssi': [-80]}, '84:b2:61:65:c3:b1': {'ssid': 'UPB-Guest', 'frequency': '2412', 'rssi': [-80]}, '84:b2:61:65:c3:b0': {'ssid': 'eduroam', 'frequency': '2412', 'rssi': [-81]}, '84:b2:61:65:f2:2f': {'ssid': 'eduroam', 'frequency': '5220', 'rssi': [-78]}, '84:b2:61:65:f2:2e': {'ssid': 'UPB-Guest', 'frequency': '5220', 'rssi': [-78]}, '84:b2:61:65:f2:2d': {'ssid': 'PRECIS', 'frequency': '5220', 'rssi': [-77]}}, 'ble': {}, 'gps': [], 'telephony': [{'type': '5', 'cid': '25859892', 'rssi': '-79', 'mcc': '226', 'mnc': '5'}]}, {'timestamp': '04-06-2021 19:14:51', 'wifi': {'84:b2:61:5e:62:be': {'ssid': 'UPB-Guest', 'frequency': '5500', 'rssi': [-79]}, '84:b2:61:5e:62:b2': {'ssid': 'PRECIS', 'frequency': '2437', 'rssi': [-80]}, '84:b2:61:65:c3:2f': {'ssid': 'eduroam', 'frequency': '5580', 'rssi': [-76]}, 'e4:aa:5d:84:a8:7f': {'ssid': 'eduroam', 'frequency': '5300', 'rssi': [-38]}, 'e4:aa:5d:84:a8:7e': {'ssid': 'UPB-Guest', 'frequency': '5300', 'rssi': [-35]}, '84:b2:61:65:c3:2e': {'ssid': 'UPB-Guest', 'frequency': '5580', 'rssi': [-76]}, 'e4:aa:5d:84:a8:7d': {'ssid': 'PRECIS', 'frequency': '5300', 'rssi': [-35]}, '84:b2:61:65:c3:2d': {'ssid': 'PRECIS', 'frequency': '5580', 'rssi': [-75]}, 'e4:aa:5d:84:a8:72': {'ssid': 'PRECIS', 'frequency': '2462', 'rssi': [-56]}, 'e4:aa:5d:8e:0c:6f': {'ssid': 'eduroam', 'frequency': '5280', 'rssi': [-79]}, 'e4:aa:5d:84:a8:71': {'ssid': 'UPB-Guest', 'frequency': '2462', 'rssi': [-57]}, 'e4:aa:5d:4e:1c:7f': {'ssid': 'eduroam', 'frequency': '5260', 'rssi': [-53]}, 'e4:aa:5d:8e:0c:6e': {'ssid': 'UPB-Guest', 'frequency': '5280', 'rssi': [-78]}, 'e4:aa:5d:84:a8:70': {'ssid': 'eduroam', 'frequency': '2462', 'rssi': [-57]}, 'e4:aa:5d:4e:1c:7e': {'ssid': 'UPB-Guest', 'frequency': '5260', 'rssi': [-54]}, 'e4:aa:5d:8e:0c:6d': {'ssid': 'PRECIS', 'frequency': '5280', 'rssi': [-78]}, 'e4:aa:5d:4e:1c:7d': {'ssid': 'PRECIS', 'frequency': '5260', 'rssi': [-54]}, '84:b2:61:65:c3:bf': {'ssid': 'eduroam', 'frequency': '5180', 'rssi': [-78]}, '84:b2:61:65:c3:be': {'ssid': 'UPB-Guest', 'frequency': '5180', 'rssi': [-78]}, '84:b2:61:65:c3:bd': {'ssid': 'PRECIS', 'frequency': '5180', 'rssi': [-78]}, '84:b2:61:65:c3:b1': {'ssid': 'UPB-Guest', 'frequency': '2412', 'rssi': [-76]}, '84:b2:61:65:c3:b0': {'ssid': 'eduroam', 'frequency': '2412', 'rssi': [-76]}, '84:b2:61:6d:58:72': {'ssid': 'PRECIS', 'frequency': '2412', 'rssi': [-90]}, '84:b2:61:6d:58:71': {'ssid': 'UPB-Guest', 'frequency': '2412', 'rssi': [-91]}, '84:b2:61:6d:58:70': {'ssid': 'eduroam', 'frequency': '2412', 'rssi': [-89]}, '84:b2:61:65:f2:2f': {'ssid': 'eduroam', 'frequency': '5220', 'rssi': [-78]}, '84:b2:61:65:f2:2e': {'ssid': 'UPB-Guest', 'frequency': '5220', 'rssi': [-78]}, '84:b2:61:65:f2:2d': {'ssid': 'PRECIS', 'frequency': '5220', 'rssi': [-78]}}, 'ble': {}, 'gps': [], 'telephony': [{'type': '5', 'cid': '25859892', 'rssi': '-79', 'mcc': '226', 'mnc': '5'}]}, {'timestamp': '04-06-2021 19:14:56', 'wifi': {'84:b2:61:5e:62:bf': {'ssid': 'eduroam', 'frequency': '5500', 'rssi': [-78]}, '84:b2:61:5e:62:be': {'ssid': 'UPB-Guest', 'frequency': '5500', 'rssi': [-79]}, '84:b2:61:5e:62:bd': {'ssid': 'PRECIS', 'frequency': '5500', 'rssi': [-79]}, '84:b2:61:5e:62:b2': {'ssid': 'PRECIS', 'frequency': '2437', 'rssi': [-68]}, '84:b2:61:5e:62:b1': {'ssid': 'UPB-Guest', 'frequency': '2437', 'rssi': [-67]}, '84:b2:61:5e:62:b0': {'ssid': 'eduroam', 'frequency': '2437', 'rssi': [-68]}, '84:b2:61:65:c3:2f': {'ssid': 'eduroam', 'frequency': '5580', 'rssi': [-76]}, 'e4:aa:5d:84:a8:7f': {'ssid': 'eduroam', 'frequency': '5300', 'rssi': [-38]}, '84:b2:61:56:54:c2': {'ssid': 'PRECIS', 'frequency': '2437', 'rssi': [-89]}, '84:b2:61:65:c3:2e': {'ssid': 'UPB-Guest', 'frequency': '5580', 'rssi': [-76]}, 'e4:aa:5d:84:a8:7e': {'ssid': 'UPB-Guest', 'frequency': '5300', 'rssi': [-38]}, '84:b2:61:65:c3:2d': {'ssid': 'PRECIS', 'frequency': '5580', 'rssi': [-76]}, 'e4:aa:5d:84:a8:7d': {'ssid': 'PRECIS', 'frequency': '5300', 'rssi': [-39]}, 'e4:aa:5d:84:a8:72': {'ssid': 'PRECIS', 'frequency': '2462', 'rssi': [-42]}, 'e4:aa:5d:8e:0c:6f': {'ssid': 'eduroam', 'frequency': '5280', 'rssi': [-83]}, 'e4:aa:5d:4e:1c:7f': {'ssid': 'eduroam', 'frequency': '5260', 'rssi': [-55]}, 'e4:aa:5d:84:a8:70': {'ssid': 'eduroam', 'frequency': '2462', 'rssi': [-42]}, 'e4:aa:5d:4e:1c:7e': {'ssid': 'UPB-Guest', 'frequency': '5260', 'rssi': [-55]}, 'e4:aa:5d:4e:1c:7d': {'ssid': 'PRECIS', 'frequency': '5260', 'rssi': [-55]}, 'e4:aa:5d:8e:0c:62': {'ssid': 'PRECIS', 'frequency': '2462', 'rssi': [-81]}, 'e4:aa:5d:4e:1c:72': {'ssid': 'PRECIS', 'frequency': '2437', 'rssi': [-67]}, 'e4:aa:5d:8e:0c:61': {'ssid': 'UPB-Guest', 'frequency': '2462', 'rssi': [-80]}, 'e4:aa:5d:4e:1c:71': {'ssid': 'UPB-Guest', 'frequency': '2437', 'rssi': [-67]}, 'e4:aa:5d:8e:0c:60': {'ssid': 'eduroam', 'frequency': '2462', 'rssi': [-82]}, 'e4:aa:5d:4e:1c:70': {'ssid': 'eduroam', 'frequency': '2437', 'rssi': [-63]}, '84:b2:61:65:c3:bf': {'ssid': 'eduroam', 'frequency': '5180', 'rssi': [-69]}, '84:b2:61:65:c3:be': {'ssid': 'UPB-Guest', 'frequency': '5180', 'rssi': [-70]}, '84:b2:61:65:c3:bd': {'ssid': 'PRECIS', 'frequency': '5180', 'rssi': [-69]}, '84:b2:61:65:c3:b2': {'ssid': 'PRECIS', 'frequency': '2412', 'rssi': [-72]}, '84:b2:61:65:c3:b1': {'ssid': 'UPB-Guest', 'frequency': '2412', 'rssi': [-72]}, '84:b2:61:65:c3:b0': {'ssid': 'eduroam', 'frequency': '2412', 'rssi': [-72]}, '84:b2:61:6d:58:70': {'ssid': 'eduroam', 'frequency': '2412', 'rssi': [-89]}, '84:b2:61:65:f2:2f': {'ssid': 'eduroam', 'frequency': '5220', 'rssi': [-81]}, '84:b2:61:65:f2:2e': {'ssid': 'UPB-Guest', 'frequency': '5220', 'rssi': [-82]}, '84:b2:61:65:f2:2d': {'ssid': 'PRECIS', 'frequency': '5220', 'rssi': [-82]}}, 'ble': {}, 'gps': [], 'telephony': [{'type': '5', 'cid': '25859892', 'rssi': '-79', 'mcc': '226', 'mnc': '5'}]}]}\n"
     ]
    }
   ],
   "source": [
    "#print(retaje[0][45])\n",
    "print(retaje[0][48])\n"
   ]
  },
  {
   "cell_type": "code",
   "execution_count": 672,
   "metadata": {},
   "outputs": [],
   "source": [
    "import numpy as np\n",
    "from scipy.spatial.distance import *\n",
    "from scipy.stats import ks_2samp, chisquare\n",
    "import copy \n",
    "\n",
    "def merge_wifi_fingerprints(flist):\n",
    "    fingerprint = copy.deepcopy(flist[0])\n",
    "    for f2 in copy.deepcopy(flist[1:]):\n",
    "        if not \"wifi\" in f2.keys():\n",
    "            continue\n",
    "        for mac in f2[\"wifi\"].keys():\n",
    "            if not mac in fingerprint[\"wifi\"].keys():\n",
    "                fingerprint[\"wifi\"][mac] = f2[\"wifi\"][mac]\n",
    "                #fingerprint[\"wifi\"][mac]['rssi'] = []\n",
    "            else:\n",
    "                fingerprint[\"wifi\"][mac]['rssi'].extend(f2[\"wifi\"][mac]['rssi'])\n",
    "            fingerprint[\"wifi\"][mac]['rssi'].sort()    \n",
    "    return fingerprint\n",
    "\n",
    "def real_braycurtis(u, v, u1, v1):\n",
    "    \"\"\"\n",
    "    Compute the Bray-Curtis distance between two 1-D arrays.\n",
    "    Bray-Curtis distance is defined as\n",
    "    .. math::\n",
    "       \\\\sum{|u_i-v_i|} / \\\\sum{|u_i+v_i|}\n",
    "    The Bray-Curtis distance is in the range [0, 1] if all coordinates are\n",
    "    positive, and is undefined if the inputs are of length zero.\n",
    "    \n",
    "    \"\"\"\n",
    "    \n",
    "    l1_diff = abs(u - v)\n",
    "    l1_sum = abs(u + v)\n",
    "    s1 = abs(u1)\n",
    "    s2 = abs(v1)\n",
    "    return (s1.sum() + s2.sum() + l1_diff.sum()) / (s1.sum() + s2.sum() + l1_sum.sum())\n",
    "\n",
    "def compare_locations(c1, c2, simil_method = braycurtis,  selection = 'Average', dif = True):\n",
    "    rssi1 = []\n",
    "    rssi2 = []\n",
    "    w = [] #weight for braycurtis\n",
    "    \n",
    "    # take the first fingerprint in the list \n",
    "    #wifi1 = c1['fingerprints'][0]['wifi']\n",
    "    #wifi2 = c2['fingerprints'][0]['wifi']\n",
    "\n",
    "    # take a random fingerprint in the list \n",
    "    #wifi1 = c1['fingerprints'][random.randint(0,3)]['wifi']\n",
    "    #wifi2 = c2['fingerprints'][random.randint(0,3)]['wifi']\n",
    "\n",
    "    # first & third - as if measuring twice at 180 degrees\n",
    "    #wifi1 = merge_wifi_fingerprints([c1['fingerprints'][0], c1['fingerprints'][2]])['wifi']\n",
    "    #wifi2 = merge_wifi_fingerprints([c2['fingerprints'][0], c2['fingerprints'][2]])['wifi']\n",
    "    \n",
    "    #merge all existing fingerprints for each collection\n",
    "    wifi1 = merge_wifi_fingerprints(c1['fingerprints'])['wifi']\n",
    "    wifi2 = merge_wifi_fingerprints(c2['fingerprints'])['wifi']\n",
    "    \n",
    "    # all power received by the query\n",
    "    power1 = 0\n",
    "    for ap in wifi1:\n",
    "        power1 += np.sum(wifi1[ap]['rssi'])\n",
    "        \n",
    "    common_aps = list(set(wifi1.keys()) & set(wifi2.keys()))\n",
    "    \n",
    "    #print(\"common aps=\", len(common_aps))\n",
    "    \n",
    "    # No APs in common -> similarity = 1\n",
    "    if not common_aps:\n",
    "        return 1\n",
    "\n",
    "    # TODO: find the best metric\n",
    "    # If not enough common APs -> similarity = 1\n",
    "    if len(common_aps) * 3 <= len(wifi1.keys()) or len(common_aps) < 3:\n",
    "        return 1\n",
    "\n",
    "    for ap in common_aps:\n",
    "        \n",
    "        if selection == 'Bestdir':\n",
    "            for f1 in c1['fingerprints']: # all fingerprint dirs in the query \n",
    "                if not ap in f1['wifi'].keys():\n",
    "                    continue\n",
    "                m1 = np.average(adjust_rssi(f1['wifi'][ap]['rssi']))\n",
    "                best = 100                \n",
    "                for f2 in c2['fingerprints']: \n",
    "                    if not ap in f2['wifi'].keys():\n",
    "                        continue\n",
    "                    m2 = np.average(adjust_rssi(f2['wifi'][ap]['rssi']))\n",
    "                    if(math.fabs(m2-m1)) < best:  # find one dir with closest RSSI\n",
    "                        best = math.fabs(m2-m1)\n",
    "                        bestf = m2\n",
    "                rssi1.append(m1)\n",
    "                rssi2.append(bestf)\n",
    "                \n",
    "        # Take only the first RSSI value                \n",
    "        if selection == 'First':\n",
    "            rssi1.append(wifi1[ap]['rssi'][0])\n",
    "            rssi2.append(wifi2[ap]['rssi'][0])\n",
    "\n",
    "        # Make an average of all RSSI values\n",
    "        if selection == 'Average':\n",
    "            #rssi1.append(adjust_rssi(np.average(wifi1[ap]['rssi']))[0])\n",
    "            #rssi2.append(adjust_rssi(np.average(wifi2[ap]['rssi']))[0])\n",
    "            rssi1.append(np.average(wifi1[ap]['rssi']))\n",
    "            rssi2.append(np.average(wifi2[ap]['rssi']))\n",
    "            #w.append(min(len(wifi1[ap]['rssi']), len(wifi2[ap]['rssi'])))\n",
    "\n",
    "        if selection == 'Median':\n",
    "            rssi1.append(np.median(adjust_rssi(wifi1[ap]['rssi'])))\n",
    "            rssi2.append(np.median(adjust_rssi(wifi2[ap]['rssi'])))\n",
    "\n",
    "        if selection == 'Mean':\n",
    "            rssi1.append(np.mean(adjust_rssi(wifi1[ap]['rssi'])))\n",
    "            rssi2.append(np.mean(adjust_rssi(wifi2[ap]['rssi'])))\n",
    "\n",
    "        if selection == 'Std':\n",
    "            rssi1.append(np.std(adjust_rssi(wifi1[ap]['rssi'])))\n",
    "            rssi2.append(np.std(adjust_rssi(wifi2[ap]['rssi'])))\n",
    "\n",
    "        if selection == 'Max':\n",
    "            rssi1.append(np.max(adjust_rssi(wifi1[ap]['rssi'])))\n",
    "            rssi2.append(np.max(adjust_rssi(wifi2[ap]['rssi'])))\n",
    "            \n",
    "        if selection == 'KS':\n",
    "            _, p = ks_2samp(wifi1[ap]['rssi'], wifi2[ap]['rssi'])\n",
    "            rssi1.append(p)\n",
    "            rssi2.append(1.0)\n",
    "\n",
    "        if selection == 'Tempered':\n",
    "            rss_1.append(np.average(rssi_v[index][key]) * random.uniform(0.8, 1.2))\n",
    "            rss_2.append(np.average(rssi_v[r][key]) * random.uniform(0.8, 1.2))\n",
    "    \n",
    "    \n",
    "    rssi11 = []\n",
    "    rssi22 = []\n",
    "    if selection != 'KS':\n",
    "        if (dif == True):\n",
    "            #print(rssi1)\n",
    "            rssi11.append(np.diff(rssi1, append=rssi1[0]))\n",
    "            rssi22.append(np.diff(rssi2, append=rssi2[0]))\n",
    "            rssi1 = rssi11\n",
    "            rssi2 = rssi22        \n",
    "    \n",
    "    aps1 = set(wifi1.keys()) - set(common_aps)\n",
    "    aps2 = set(wifi2.keys()) - set(common_aps)\n",
    "    \"\"\"\n",
    "    p1 = np.mean(list(map(lambda a: np.mean(wifi1[a]['rssi']), wifi1.keys())))\n",
    "    p2 = np.mean(list(map(lambda a: np.mean(wifi2[a]['rssi']), wifi2.keys())))\n",
    "    pc1 = np.mean(list(map(lambda a: np.mean(wifi1[a]['rssi']), common_aps)))\n",
    "    pc2 = np.mean(list(map(lambda a: np.mean(wifi2[a]['rssi']), common_aps)))\n",
    "    po1 = np.mean(list(map(lambda a: np.mean(wifi1[a]['rssi']), aps1)))\n",
    "    po2 = np.mean(list(map(lambda a: np.mean(wifi2[a]['rssi']), aps2)))        \n",
    "    \"\"\"\n",
    "    iou = len(common_aps) / \\\n",
    "        (len(aps1) + len(aps2) + len(common_aps))\n",
    "\n",
    "    if simil_method == real_braycurtis:        \n",
    "        rssi_only1 = []\n",
    "        rssi_only2 = []\n",
    "        \n",
    "        for ap in aps1:\n",
    "            rssi_only1.append(-95 - np.average(wifi1[ap]['rssi']))\n",
    "        for ap in aps2:\n",
    "            rssi_only2.append(-95 - np.average(wifi2[ap]['rssi']))\n",
    "        realbc =  real_braycurtis(np.array(rssi1), np.array(rssi2), \n",
    "                                  np.array(rssi_only1), np.array(rssi_only2))\n",
    "        bc = braycurtis(tuple(rssi1), tuple(rssi2))\n",
    "        return bc, realbc, 1.0 - iou\n",
    "    \n",
    "    #print(\"normal\")\n",
    "    #return simil_method(np.array(rssi1), np.array(rssi2))   \n",
    "#   return  * \n",
    "    #print(rssi1)\n",
    "    return simil_method(rssi1, rssi2)\n",
    "\n",
    "# weigh final result with used power/total power   "
   ]
  },
  {
   "cell_type": "code",
   "execution_count": 673,
   "metadata": {},
   "outputs": [
    {
     "name": "stdout",
     "output_type": "stream",
     "text": [
      "bray  0.050936433391643776\n",
      "real  (0.14778957191181613, 0.22728714965626648, 0.203125)\n"
     ]
    }
   ],
   "source": [
    "print(\"bray \", compare_locations(retaje[0][0], retaje[0][4], dif=True, simil_method=cosine))\n",
    "print(\"real \", compare_locations(retaje[0][0], retaje[0][4], dif=True, simil_method=real_braycurtis))"
   ]
  },
  {
   "cell_type": "code",
   "execution_count": 676,
   "metadata": {},
   "outputs": [
    {
     "name": "stdout",
     "output_type": "stream",
     "text": [
      "R= 2.0 Precision= 0.47 Recall= 0.99\n",
      "Pdist = [2.41119804 4.861      5.72450679] \n",
      "Slope = 0.06\n"
     ]
    }
   ],
   "source": [
    "# compute similarities using neighbors < 7m \n",
    "# \n",
    "\n",
    "before = datetime.datetime.now()\n",
    "etaje = retaje \n",
    "TP, FP, FN, R = 0, 0, 0, 0  \n",
    "npct = 400 \n",
    "fpd, posd = [], []\n",
    "bd = []\n",
    "minra = []\n",
    "for e in range(0,len(etaje)): \n",
    "    mindisim = 1\n",
    "    mindist = 100000\n",
    "    for q in range(0,len(etaje[e])):\n",
    "        for p in range(q+1,len(etaje[e])):\n",
    "            if p > q:\n",
    "                eu_dist = euclidean([etaje[e][q]['x'], etaje[e][q]['y'], etaje[e][q]['z']], \n",
    "                                        [etaje[e][p]['x'], etaje[e][p]['y'], etaje[e][p]['z']]) \n",
    "                if eu_dist > 7.0: \n",
    "                    continue\n",
    "                bc, realbc, iou = compare_locations(etaje[e][q], etaje[e][p], \\\n",
    "                                                 selection = 'Average', \\\n",
    "                                              dif=True, simil_method=real_braycurtis)\n",
    "                #    real_braycurtis returns python bc, new_bc, and intersection/union      \n",
    "                R = 2.0\n",
    "                if bc < 0.29: \n",
    "                    if eu_dist < R:\n",
    "                        TP = TP + 1 \n",
    "                    else:\n",
    "                        FP = FP + 1\n",
    "                        fpd.append(eu_dist)\n",
    "                    posd.append(eu_dist)    \n",
    "                else:\n",
    "                    if eu_dist < R:\n",
    "                        FN = FN + 1\n",
    "                    \n",
    "                bd.append([ q, p, eu_dist, bc, realbc, iou])\n",
    "after = datetime.datetime.now()\n",
    "\n",
    "print(f\"R= {R} Precision= {TP*1.0/(TP+FP):.2f} Recall= {TP*1.0/(TP+FN):.2f}\")\n",
    "print(f\"Pdist = {np.percentile(posd, [50, 95, 99])} \")\n",
    "m = np.polyfit([r[2] for r in bd] , [r[3] for r in bd], 1)\n",
    "print(f\"Slope = {m[0]:.2f}\")"
   ]
  },
  {
   "cell_type": "markdown",
   "metadata": {},
   "source": [
    "###precis-02\n",
    "-R = 2.0 bc < 0.29/avg Precision = 0.47 Recall = 0.99 FP up to 4.8m 95% \n",
    "-R = 2.0 bc < 0.32/max Precision = 0.51 Recall = 0.99 FP up to 4.4m 95% \n",
    "-R = 2.5 bc < 0.35/max Precision = 0.55 Recall = 0.99 FP up to 4.8m 95% \n",
    "-R = 3.0 bc < 0.38/max Precision = 0.56 Recall = 0.99 FP up to 5.1m 95% \n",
    "braycurtis ~ cosine ~ correlation \n",
    "R = 2.0 cor<0.11/avg/nodiff Precision = 0.56 Recall = 0.99 FP up to 4.2m 95%  - BEST \n",
    "\n",
    "###precis-01\n",
    "-R= 2.0m bc < 0.23/Avg Precision= 0.35 Recall= 0.99 false positives up to @5.3m 95% \n",
    "-R= 2.5m bc < 0.28/Avg Precision= 0.49 Recall= 0.99 false positives up to @5.8m 95% \n",
    "-R= 4.0m bc < 0.39/Avg Precision= 0.61 Recall= 0.99 false positives up to @6.4m 95% \n"
   ]
  },
  {
   "cell_type": "code",
   "execution_count": 667,
   "metadata": {},
   "outputs": [
    {
     "name": "stdout",
     "output_type": "stream",
     "text": [
      "[[9, 10, 0.6060000000000016, 0.21077625570776257, 0.22596153846153852, 0.20370370370370372], [19, 20, 0.6050000000000004, 0.20357142857142857, 0.22596153846153852, 0.20370370370370372], [26, 27, 0.607999999999997, 0.22648253452477662, 0.22596153846153852, 0.20370370370370372], [29, 30, 0.6080000000000041, 0.26063724520087084, 0.22596153846153852, 0.20370370370370372], [30, 31, 0.6069999999999993, 0.22776495650630213, 0.22596153846153852, 0.20370370370370372], [65, 68, 0.7098940647887216, 0.22455052696838187, 0.22596153846153852, 0.20370370370370372], [67, 70, 0.7028563521433601, 0.24525139664804477, 0.22596153846153852, 0.20370370370370372]]\n"
     ]
    }
   ],
   "source": [
    "b1= list(filter(lambda r: r[2] < 0.8 and r[2] > 0.5 and r[3]>0.2, bd))\n",
    "print(b1)"
   ]
  },
  {
   "cell_type": "code",
   "execution_count": 677,
   "metadata": {},
   "outputs": [
    {
     "name": "stdout",
     "output_type": "stream",
     "text": [
      "Slope = [0.00233491 0.0381627  0.11087041]\n"
     ]
    },
    {
     "data": {
      "image/png": "[encoded data removed]",
      "text/plain": [
       "<Figure size 648x432 with 1 Axes>"
      ]
     },
     "metadata": {
      "needs_background": "light"
     },
     "output_type": "display_data"
    }
   ],
   "source": [
    "fig =  plt.figure(figsize=(9, 6))     # bc, realbc, iou   \n",
    "m = np.polyfit([r[2] for r in bd] , [r[3] for r in bd], 2)\n",
    "print(f\"Slope = {m}\")\n",
    "predict = np.poly1d(m)\n",
    "x_lin_reg = range(0, 8)\n",
    "y_lin_reg = predict(x_lin_reg)\n",
    "plt.plot(x_lin_reg, y_lin_reg, c = 'r')\n",
    "# r =  q, p, eu_dist, bc, rbc, iou \n",
    "plt.plot([r[2] for r in bd] , [r[3] for r in bd], \".\", label='bestdir', alpha=0.2)\n",
    "\n",
    "plt.xlabel('distance[m]')\n",
    "plt.ylabel('di-similarity')\n",
    "plt.grid(True)\n",
    "plt.title(f\"Floor={e} points={npct} pairs={len(bd)}\")\n",
    "#plt.xticks(range(0, 20, 2))\n",
    "#plt.ylim(0, 0.5)\n",
    "#plt.yticks(np.arange(0, 1, 0.1))\n",
    "#plt.legend(loc=\"upper right\",shadow=True, fancybox=True)\n",
    "plt.show()"
   ]
  },
  {
   "cell_type": "code",
   "execution_count": 678,
   "metadata": {},
   "outputs": [],
   "source": [
    "# Generate a matrix (list of lists) for a collection (etaj)\n",
    "# [point_index, index_of_closest_pt, dist_to_closest_pt, index_diff, dist_2_best_neighbor]\n",
    "def test_allvsall(collection, selection='Average'):\n",
    "    lc = len(collection)\n",
    "    #arr = [[0]*lc]*lc - nu merge!\n",
    "    arr = [[0 for i in range(lc)] for j in range(lc)]\n",
    "    for l in range(0, lc):\n",
    "        for c in range(0, l):\n",
    "            arr[l][c] = compare_locations(collection[l], collection[c], braycurtis, selection)\n",
    "            arr[c][l] = arr[l][c]\n",
    "        arr[l][l] = 1 # max \n",
    "\n",
    "   # print(\"#pt minpt mindist diff dist2nbr\")\n",
    "    listp = []\n",
    "    for l in range(0, lc):\n",
    "        mindist = min(arr[l])\n",
    "        index_of_min = arr[l].index(mindist)\n",
    "        diff = diff_modulo(l, arr[l].index(mindist), lc)\n",
    "        distl=arr[l][(l-1+lc)%lc]\n",
    "        distr=arr[l][(l+1)%lc]\n",
    "\n",
    "        #print(l, index_of_min, mindist, diff, min(distl, distr))\n",
    "        listp.append([l, index_of_min, mindist, diff, min(distl, distr)])\n",
    "    return listp\n",
    "\n",
    "\n",
    "\n",
    "def test_queryvsall(query, collections, selection='Average'):\n",
    "    \"\"\"\n",
    "    query = collection, an array or fingerprints \n",
    "    collections = aray of collection, can be a floor  \n",
    "    RETURNS (similarity, index, eu_distance)\n",
    "    \"\"\"\n",
    "    min = 1000.0 \n",
    "    mini = -1; \n",
    "    for c in range(0, len(collections)):\n",
    "        d = compare_locations(query, collections[c], braycurtis, dif=True)\n",
    "        if d != 0 and d < min:\n",
    "            min = d \n",
    "            mini = c\n",
    "    return min,mini, \\\n",
    "            euclidean([query['x'], query['y'], query['z']],\\\n",
    "                       [collections[mini]['x'], collections[mini]['y'],collections[mini]['z']])\n",
    "\n",
    "  \n",
    "    "
   ]
  },
  {
   "cell_type": "code",
   "execution_count": 679,
   "metadata": {},
   "outputs": [
    {
     "name": "stdout",
     "output_type": "stream",
     "text": [
      "[0.64354869 2.15582496 3.06297   ]\n"
     ]
    }
   ],
   "source": [
    "#  query = Pixel  \n",
    "#  DB = redmi \n",
    "cl_sim = []\n",
    "cl_steps = []\n",
    "cl_dist = []\n",
    "\n",
    "#for e in len(retaje):\n",
    "for e in range(0, len(petaje)): \n",
    "    for p in range(0, len(petaje[e])):\n",
    "        sim, index, d =  test_queryvsall(petaje[e][p], retaje[e], 'Average')\n",
    "        # print(sim, diff_modulo(p, index, len(petaje[e])), d)\n",
    "        cl_sim.append(sim)\n",
    "        #cl_steps.append(diff_modulo(p, index, len(petaje[e])))\n",
    "        cl_dist.append(d)\n",
    "  \n",
    "print(np.percentile(cl_dist, [50, 95, 99]))"
   ]
  },
  {
   "cell_type": "markdown",
   "metadata": {},
   "source": [
    "real + True [0.98153846 2.12666667]\n",
    "bc + True [0.98153846 2.12666667 2.55557152]"
   ]
  },
  {
   "cell_type": "code",
   "execution_count": 680,
   "metadata": {},
   "outputs": [
    {
     "data": {
      "image/png": "[encoded data removed]",
      "text/plain": [
       "<Figure size 432x288 with 1 Axes>"
      ]
     },
     "metadata": {
      "needs_background": "light"
     },
     "output_type": "display_data"
    },
    {
     "data": {
      "image/png": "[encoded data removed]",
      "text/plain": [
       "<Figure size 432x288 with 1 Axes>"
      ]
     },
     "metadata": {
      "needs_background": "light"
     },
     "output_type": "display_data"
    },
    {
     "data": {
      "image/png": "[encoded data removed]",
      "text/plain": [
       "<Figure size 432x288 with 1 Axes>"
      ]
     },
     "metadata": {
      "needs_background": "light"
     },
     "output_type": "display_data"
    }
   ],
   "source": [
    "\n",
    "b = np.arange(0, 0.3, 0.005) # Bins of histogram - from 1 to 5 \n",
    "bin_width = b[1] - b[0]\n",
    "hist_sim, bins_out = np.histogram(np.array(cl_sim), b, density=False)\n",
    "hist_sim = hist_sim / len(cl_sim)\n",
    "fig = plt.figure()\n",
    "plt.bar(b[:-1], hist_sim, width=bin_width, ec='k', alpha=0.8)\n",
    "plt.xlabel(\"Similarity closest point query=Pixel DB=Redmi\")\n",
    "plt.ylabel(\"PMF\")\n",
    "plt.title(\"{} {} \\n{}{}\".format(\"TOTAL floors \", len(retaje), len(cl_sim), \" points;\"))\n",
    "plt.tight_layout()\n",
    "plt.show()\n",
    "#    fig.savefig(f\"{method}-{len(etaje)}.pdf\", bbox_inches='tight')\n",
    "#    print(\"Percentages: \", hist_away)\n",
    "\n",
    "b = np.arange(0, 10, 1) # Bins of histogram - from 1 to 5 \n",
    "bin_width = b[1] - b[0]\n",
    "hist_sim, bins_out = np.histogram(np.array(cl_dist), b, density=False)\n",
    "hist_sim = hist_sim / len(cl_sim)\n",
    "fig = plt.figure()\n",
    "plt.bar(b[:-1], hist_sim, width=bin_width, ec='k', alpha=0.8)\n",
    "plt.xlabel(\"closest point (meters) query=Pixel DB=Redmi\")\n",
    "plt.ylabel(\"PMF\")\n",
    "plt.title(\"{} {} \\n{}{}\".format(\"median \", np.median(cl_dist), len(cl_sim), \" points;\"))\n",
    "plt.tight_layout()\n",
    "plt.show()\n",
    "#    fig.savefig(f\"{method}-{len(etaje)}.pdf\", bbox_inches='tight')\n",
    "#    print(\"Percentages: \", hist_away)\n",
    "\n",
    "cdf=np.cumsum(hist_sim)\n",
    "plt.axhline(y=1, color='r', linestyle='--')\n",
    "plt.xlabel(\"closest point (meters) query=Pixel DB=Redmi\")\n",
    "plt.ylabel(\"CDF(%)\")\n",
    "plt.title(\"{}{}\".format(\"CDF for distance error\", 22))\n",
    "plt.plot(b[:-1], cdf)\n",
    "plt.grid(True)\n",
    "plt.tight_layout()\n",
    "plt.show()\n",
    "\n"
   ]
  }
 ],
 "metadata": {
  "kernelspec": {
   "display_name": "Python 3",
   "language": "python",
   "name": "python3"
  },
  "language_info": {
   "codemirror_mode": {
    "name": "ipython",
    "version": 3
   },
   "file_extension": ".py",
   "mimetype": "text/x-python",
   "name": "python",
   "nbconvert_exporter": "python",
   "pygments_lexer": "ipython3",
   "version": "3.8.6"
  }
 },
 "nbformat": 4,
 "nbformat_minor": 4
}
