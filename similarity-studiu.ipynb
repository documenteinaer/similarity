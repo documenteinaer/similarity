{
 "cells": [
  {
   "cell_type": "code",
   "execution_count": 1,
   "metadata": {},
   "outputs": [],
   "source": [
    "from utils import *\n",
    "import sys, os\n",
    "from compare_locations import compare_locations\n",
    "\n",
    "datadir = \"./data\"\n",
    "# preprocessed already, with \n",
    "# parallel -k python3 ../preprocessing.py ./precis_whitelist.json {1} ::: [0-7]*json"
   ]
  },
  {
   "cell_type": "code",
   "execution_count": 59,
   "metadata": {},
   "outputs": [],
   "source": [
    "#similarity_collection_vs_all(collection, index = 5, method = 'Average')"
   ]
  },
  {
   "cell_type": "code",
   "execution_count": 105,
   "metadata": {},
   "outputs": [],
   "source": [
    "# Generate a matrix (list of lists) for a collection (etaj)\n",
    "# [point_index, index_of_closest_pt, dist_to_closest_pt, index_diff, dist_2_best_neighbor]\n",
    "def test_allvsall(collection):\n",
    "    lc = len(collection)\n",
    "    #arr = [[0]*lc]*lc - nu merge!\n",
    "    arr = [[0 for i in range(lc)] for j in range(lc)]\n",
    "    for l in range(0, lc):\n",
    "        for c in range(0, l):\n",
    "            arr[l][c] = compare_locations(collection[l], collection[c])\n",
    "            arr[c][l] = arr[l][c]\n",
    "        arr[l][l] = 1 # max \n",
    "\n",
    "   # print(\"#pt minpt mindist diff dist2nbr\")\n",
    "    listp = []\n",
    "    for l in range(0, lc):\n",
    "        mindist = min(arr[l])\n",
    "        index_of_min = arr[l].index(mindist)\n",
    "        diff = diff_modulo(l, arr[l].index(mindist), lc)\n",
    "        distl=arr[l][(l-1+lc)%lc]\n",
    "        distr=arr[l][(l+1)%lc]\n",
    "\n",
    "        #print(l, index_of_min, mindist, diff, min(distl, distr))\n",
    "        listp.append([l, index_of_min, mindist, diff, min(distl, distr)])\n",
    "    return listp\n",
    "    "
   ]
  },
  {
   "cell_type": "code",
   "execution_count": 113,
   "metadata": {},
   "outputs": [],
   "source": [
    "etaje = [\"p_0-pixel-04-03-2021_15-32-38.json\",\n",
    "\"p_1-pixel-25-02-2021_21-16-46.json\",\n",
    "\"p_2-pixel-25-02-2021_16-27-45.json\",\n",
    "\"p_3-pixel-04-03-2021_16-18-50.json\",\n",
    "\"p_4-pixel-04-03-2021_16-43-50.json\",\n",
    "\"p_5-pixel-04-03-2021_17-11-32.json\",\n",
    "\"p_6-pixel-17-03-2021_12-52-29.json\",\n",
    "\"p_7-pixel-17-03-2021_13-14-36.json\"]\n",
    "\n",
    "d_nearest = []\n",
    "collections = []\n",
    "for e in etaje: \n",
    "    json_file = os.path.join(datadir, e)\n",
    "    collection = load_dataset_json(json_file)\n",
    "    collections.append(collection)\n",
    "    #print(e)\n",
    "    d_nearest = d_nearest + test_allvsall(collection)\n",
    "\n",
    "# points from all collections     "
   ]
  },
  {
   "cell_type": "code",
   "execution_count": 132,
   "metadata": {
    "scrolled": true
   },
   "outputs": [
    {
     "data": {
      "image/png": "[encoded data removed]",
      "text/plain": [
       "<Figure size 432x288 with 1 Axes>"
      ]
     },
     "metadata": {
      "needs_background": "light"
     },
     "output_type": "display_data"
    },
    {
     "name": "stdout",
     "output_type": "stream",
     "text": [
      "Percentages:  [0.74801061 0.19893899 0.03713528 0.01591512]\n"
     ]
    }
   ],
   "source": [
    "nearest = np.array(d_nearest)\n",
    "\n",
    "away = nearest[:, 3] # steps away from true \n",
    "b = np.arange(1, 6, 1) # Bins of histogram - from 1 to 5 \n",
    "bin_width = b[1] - b[0]\n",
    "\n",
    "hist_away, bins_out = np.histogram(away, b, density=False)\n",
    "\n",
    "hist_away = hist_away / away.size\n",
    "\n",
    "fig = plt.figure()\n",
    "plt.bar(b[:-1], hist_away, width=bin_width, ec='k', alpha=0.8)\n",
    "plt.xlabel(\"Steps away from true location\")\n",
    "plt.ylabel(\"PMF\")\n",
    "plt.title(\"{}\\n{}{}\".format(\"Distribution across \", len(d_nearest), \" points; Average across RSSI N/E/S/W\"))\n",
    "\n",
    "plt.tight_layout()\n",
    "#fig.savefig(os.path.join(save_img_dir, fn))\n",
    "plt.show()\n",
    "print(\"Percentages: \", hist_away)"
   ]
  },
  {
   "cell_type": "code",
   "execution_count": 139,
   "metadata": {},
   "outputs": [
    {
     "data": {
      "image/png": "[encoded data removed]",
      "text/plain": [
       "<Figure size 432x288 with 1 Axes>"
      ]
     },
     "metadata": {
      "needs_background": "light"
     },
     "output_type": "display_data"
    },
    {
     "name": "stdout",
     "output_type": "stream",
     "text": [
      "Mean Std = 0.08648237281624498 0.029241145007908052\n"
     ]
    }
   ],
   "source": [
    "good_pts = nearest[away == 1]\n",
    "dists = good_pts[:, 2] # steps away from true \n",
    "b = np.arange(0, 0.3, 0.01) # Bins of histogram - from 1 to 5 \n",
    "bin_width = b[1] - b[0]\n",
    "\n",
    "hist_away, bins_out = np.histogram(dists, b, density=False)\n",
    "\n",
    "hist_away = hist_away / away.size\n",
    "\n",
    "fig = plt.figure()\n",
    "plt.bar(b[:-1], hist_away, width=bin_width, ec='k', alpha=0.8)\n",
    "plt.xlabel(\"Steps away from true location\")\n",
    "plt.ylabel(\"PMF\")\n",
    "plt.title(\"{}\\n{}{}\".format(\"Distribution of distances across \", len(dists), \" good points (closest is 1 step away)\"))\n",
    "\n",
    "plt.tight_layout()\n",
    "#fig.savefig(os.path.join(save_img_dir, fn))\n",
    "plt.show()\n",
    "print(\"Mean Std =\", np.mean(dists), np.std(dists))"
   ]
  },
  {
   "cell_type": "code",
   "execution_count": 119,
   "metadata": {},
   "outputs": [
    {
     "name": "stdout",
     "output_type": "stream",
     "text": [
      "0.6301725322184567\n"
     ]
    }
   ],
   "source": [
    "print(compare_locations(collections[1][2], collections[0][2]))\n"
   ]
  }
 ],
 "metadata": {
  "kernelspec": {
   "display_name": "Python 3",
   "language": "python",
   "name": "python3"
  },
  "language_info": {
   "codemirror_mode": {
    "name": "ipython",
    "version": 3
   },
   "file_extension": ".py",
   "mimetype": "text/x-python",
   "name": "python",
   "nbconvert_exporter": "python",
   "pygments_lexer": "ipython3",
   "version": "3.8.6"
  }
 },
 "nbformat": 4,
 "nbformat_minor": 4
}
