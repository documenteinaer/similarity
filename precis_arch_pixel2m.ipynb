{
 "cells": [
  {
   "cell_type": "code",
   "execution_count": 1,
   "metadata": {},
   "outputs": [
    {
     "name": "stdout",
     "output_type": "stream",
     "text": [
      "matrix =  [[0.0, -1.0, 1.0], [1.0, 0.0, 1.0], [0, 0, 1]]\n"
     ]
    },
    {
     "data": {
      "text/plain": [
       "[1.0, 3.0]"
      ]
     },
     "execution_count": 1,
     "metadata": {},
     "output_type": "execute_result"
    }
   ],
   "source": [
    "import numpy as np \n",
    "import nudged \n",
    "# pip3 install nudged\n",
    "# https://github.com/axelpale/nudged-py\n",
    "\n",
    "ran  = [[1,1], [1,3], [-1,2]]\n",
    "dom = [[0,0], [2,0], [ 1,2]]\n",
    "trans = nudged.estimate(dom, ran);\n",
    "print(\"matrix = \", trans.get_matrix())\n",
    "\n",
    "# produces \n",
    "#\n",
    "# |s  -r  tx|\n",
    "# |r   s  ty|\n",
    "# |0   0   1|\n",
    "\n",
    "trans.transform(dom[1])"
   ]
  },
  {
   "cell_type": "code",
   "execution_count": 7,
   "metadata": {},
   "outputs": [
    {
     "name": "stdout",
     "output_type": "stream",
     "text": [
      "cornerss0m =  [[41.61895476 20.44037962]\n",
      " [41.61895476 33.16788872]\n",
      " [54.37191888 33.16788872]\n",
      " [54.37191888 20.44037962]]\n",
      "p2m_tr0 =  [[0.02545501820072804, -0.0, -1.7845666408467436e-13], [0.0, 0.02545501820072804, -8.922833204233718e-14], [0, 0, 1]]\n",
      "first corner in meters =  [41.61895475819017, 20.44037961518453]\n",
      "p2m_tr1 =  [[0.025557144550145374, -5.855842588451566e-17, 4.20326963079839], [5.855842588451566e-17, 0.025557144550145374, -0.7720248042404123], [0, 0, 1]]\n",
      "second corner in meters =  [41.61892925221114, 33.16786315835273]\n",
      "p2m_tr2 =  [[0.025660093668084236, -5.903114539168136e-17, 19.653863361073668], [5.903114539168136e-17, 0.025660093668084236, -0.6008458721474215], [0, 0, 1]]\n",
      "third corner in meters =  [54.371970093991564, 33.16783739505151]\n",
      "v*mat= 54.371970093991564 33.16783739505151\n"
     ]
    }
   ],
   "source": [
    "# parter, altitude = 85m + 1.5m(handheld)  \n",
    "# 1923px = 48.95m\n",
    "ppm0 = 1923/48.95\n",
    "corners0 = [\n",
    "[ 1635,  803],\n",
    "[ 1635, 1303],\n",
    "[ 2136, 1303],\n",
    "[ 2136,  803]]\n",
    "corners0m = np.array(corners0)*(1.0/ppm0)\n",
    "print(\"cornerss0m = \", corners0m)\n",
    "p2m_tr0 = nudged.estimate(corners0, corners0m)\n",
    "print(\"p2m_tr0 = \", p2m_tr0.get_matrix())\n",
    "print(\"first corner in meters = \", p2m_tr0.transform(corners0[0]))\n",
    "\n",
    "# etaj 1 altitude =  88m + 1.5m(handheld) \n",
    "#1178px = 30.0m\n",
    "ppm1 = 1177/30.0 \n",
    "corners1 = [\n",
    "[1464,  830],\n",
    "[1464, 1328],\n",
    "[1963, 1328],\n",
    "[1963,  830]]\n",
    "\n",
    "p2m_tr1 = nudged.estimate(corners1, corners0m)\n",
    "print(\"p2m_tr1 = \", p2m_tr1.get_matrix())\n",
    "print(\"second corner in meters = \", p2m_tr1.transform(corners1[1]))\n",
    "\n",
    "\n",
    "\n",
    "# etaj 2 altitude =  91m + 1.5m(handheld) \n",
    "#1177px = 30.0m\n",
    "ppm2 = 1177/30.0 \n",
    "corners2 = [\n",
    "[856,   820],\n",
    "[856,  1316],\n",
    "[1353, 1316],\n",
    "[1353,  820]]\n",
    "\n",
    "p2m_tr2 = nudged.estimate(corners2, corners0m)\n",
    "print(\"p2m_tr2 = \", p2m_tr2.get_matrix())\n",
    "print(\"third corner in meters = \", p2m_tr2.transform(corners2[2]))\n",
    "\n",
    "p2m_tr2 = p2m_tr2.get_matrix()\n",
    "print(\"v*mat=\", corners2[2][0]*p2m_tr2[0][0]+corners2[2][1]*p2m_tr2[0][1]+p2m_tr2[0][2], \n",
    "corners2[2][0]*p2m_tr2[1][0]+corners2[2][1]*p2m_tr2[1][1]+p2m_tr2[1][2])\n",
    "\n",
    "\n"
   ]
  }
 ],
 "metadata": {
  "kernelspec": {
   "display_name": "Python 3",
   "language": "python",
   "name": "python3"
  },
  "language_info": {
   "codemirror_mode": {
    "name": "ipython",
    "version": 3
   },
   "file_extension": ".py",
   "mimetype": "text/x-python",
   "name": "python",
   "nbconvert_exporter": "python",
   "pygments_lexer": "ipython3",
   "version": "3.8.6"
  }
 },
 "nbformat": 4,
 "nbformat_minor": 2
}
